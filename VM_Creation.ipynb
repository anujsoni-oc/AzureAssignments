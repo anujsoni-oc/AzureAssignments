{
 "cells": [
  {
   "cell_type": "code",
   "execution_count": 64,
   "id": "f47ada6e",
   "metadata": {},
   "outputs": [],
   "source": [
    "from azure.identity import AzureCliCredential\n",
    "from azure.mgmt.resource import ResourceManagementClient\n",
    "from azure.mgmt.network import NetworkManagementClient\n",
    "from azure.mgmt.compute import ComputeManagementClient\n",
    "import os\n",
    "from azure.identity import AzureCliCredential\n",
    "from azure.mgmt.resource import SubscriptionClient"
   ]
  },
  {
   "cell_type": "code",
   "execution_count": 65,
   "id": "925cc8aa",
   "metadata": {},
   "outputs": [
    {
     "name": "stdout",
     "output_type": "stream",
     "text": [
      "542414c9-86c5-4daf-9ef7-a109a8241211\n"
     ]
    }
   ],
   "source": [
    "credential = AzureCliCredential()\n",
    "subscription_client = SubscriptionClient(credential)\n",
    "\n",
    "subscription_id = next(subscription_client.subscriptions.list())\n",
    "subs_id = subscription_id.subscription_id\n",
    "print(subs_id)"
   ]
  },
  {
   "cell_type": "code",
   "execution_count": 66,
   "id": "ad675ac5",
   "metadata": {},
   "outputs": [],
   "source": [
    "# Step 1: Provision a resource group\n",
    "resource_client = ResourceManagementClient(credential, subs_id)"
   ]
  },
  {
   "cell_type": "code",
   "execution_count": 67,
   "id": "6025aa96",
   "metadata": {},
   "outputs": [],
   "source": [
    "RESOURCE_GROUP_NAME = \"PythonAzureExample-VM-rg\"\n",
    "LOCATION = \"westus2\""
   ]
  },
  {
   "cell_type": "code",
   "execution_count": 68,
   "id": "17956e97",
   "metadata": {},
   "outputs": [],
   "source": [
    "rg_result = resource_client.resource_groups.create_or_update(RESOURCE_GROUP_NAME,\n",
    "    {\n",
    "        \"location\": LOCATION\n",
    "    }\n",
    ")"
   ]
  },
  {
   "cell_type": "code",
   "execution_count": 69,
   "id": "320eab42",
   "metadata": {},
   "outputs": [
    {
     "name": "stdout",
     "output_type": "stream",
     "text": [
      "Provisioned resource group PythonAzureExample-VM-rg in the westus2 region\n"
     ]
    }
   ],
   "source": [
    "print(f\"Provisioned resource group {rg_result.name} in the {rg_result.location} region\")"
   ]
  },
  {
   "cell_type": "code",
   "execution_count": 70,
   "id": "3e8c011a",
   "metadata": {},
   "outputs": [],
   "source": [
    "# Step 2: provision a virtual network\n",
    "VNET_NAME = \"python-example-vnet\"\n",
    "SUBNET_NAME = \"python-example-subnet\"\n",
    "IP_NAME = \"python-example-ip\"\n",
    "IP_CONFIG_NAME = \"python-example-ip-config\"\n",
    "NIC_NAME = \"python-example-nic\""
   ]
  },
  {
   "cell_type": "code",
   "execution_count": 71,
   "id": "048256f3",
   "metadata": {},
   "outputs": [],
   "source": [
    "network_client = NetworkManagementClient(credential, subs_id)\n",
    "\n",
    "# Provision the virtual network and wait for completion\n",
    "poller = network_client.virtual_networks.begin_create_or_update(RESOURCE_GROUP_NAME,\n",
    "    VNET_NAME,\n",
    "    {\n",
    "        \"location\": LOCATION,\n",
    "        \"address_space\": {\n",
    "            \"address_prefixes\": [\"10.0.0.0/16\"]\n",
    "        }\n",
    "    }\n",
    ")"
   ]
  },
  {
   "cell_type": "code",
   "execution_count": 72,
   "id": "3f690214",
   "metadata": {},
   "outputs": [],
   "source": [
    "vnet_result = poller.result()"
   ]
  },
  {
   "cell_type": "code",
   "execution_count": 73,
   "id": "c13ff6f7",
   "metadata": {},
   "outputs": [
    {
     "name": "stdout",
     "output_type": "stream",
     "text": [
      "Provisioned virtual network python-example-vnet with address prefixes ['10.0.0.0/16']\n",
      "{'additional_properties': {}, 'id': '/subscriptions/542414c9-86c5-4daf-9ef7-a109a8241211/resourceGroups/PythonAzureExample-VM-rg/providers/Microsoft.Network/virtualNetworks/python-example-vnet', 'name': 'python-example-vnet', 'type': 'Microsoft.Network/virtualNetworks', 'location': 'westus2', 'tags': None, 'extended_location': None, 'etag': 'W/\"8a99ffea-474f-4205-a006-cf28adc5434c\"', 'address_space': <azure.mgmt.network.v2021_02_01.models._models_py3.AddressSpace object at 0x7f87a095a430>, 'dhcp_options': None, 'flow_timeout_in_minutes': None, 'subnets': [], 'virtual_network_peerings': [], 'resource_guid': 'c3362302-7bee-4668-99de-9d4449b6ac94', 'provisioning_state': 'Succeeded', 'enable_ddos_protection': False, 'enable_vm_protection': None, 'ddos_protection_plan': None, 'bgp_communities': None, 'ip_allocations': None}\n"
     ]
    }
   ],
   "source": [
    "print(f\"Provisioned virtual network {vnet_result.name} with address prefixes {vnet_result.address_space.address_prefixes}\") \n",
    "print(vnet_result)"
   ]
  },
  {
   "cell_type": "code",
   "execution_count": 74,
   "id": "7c9bdd21",
   "metadata": {},
   "outputs": [
    {
     "name": "stdout",
     "output_type": "stream",
     "text": [
      "{'additional_properties': {}, 'id': '/subscriptions/542414c9-86c5-4daf-9ef7-a109a8241211/resourceGroups/PythonAzureExample-VM-rg/providers/Microsoft.Network/networkSecurityGroups/testnsg', 'name': 'testnsg', 'type': 'Microsoft.Network/networkSecurityGroups', 'location': 'westus2', 'tags': {'name': 'testnsg'}, 'etag': 'W/\"014860d4-5540-412c-b94e-000d2d21b7f3\"', 'security_rules': [], 'default_security_rules': [<azure.mgmt.network.v2021_02_01.models._models_py3.SecurityRule object at 0x7f8790303a00>, <azure.mgmt.network.v2021_02_01.models._models_py3.SecurityRule object at 0x7f8790303ee0>, <azure.mgmt.network.v2021_02_01.models._models_py3.SecurityRule object at 0x7f87903031f0>, <azure.mgmt.network.v2021_02_01.models._models_py3.SecurityRule object at 0x7f8790303c40>, <azure.mgmt.network.v2021_02_01.models._models_py3.SecurityRule object at 0x7f87801c2970>, <azure.mgmt.network.v2021_02_01.models._models_py3.SecurityRule object at 0x7f87801c2f10>], 'network_interfaces': None, 'subnets': None, 'flow_logs': None, 'resource_guid': 'af114103-8ee7-43a8-adb8-932bcfa13c81', 'provisioning_state': 'Succeeded'}\n"
     ]
    }
   ],
   "source": [
    "from azure.mgmt.network.v2020_06_01.models import NetworkSecurityGroup\n",
    "nsg_name = \"testnsg\"\n",
    "\n",
    "nsg_params = NetworkSecurityGroup(id= \"testnsg\", location=LOCATION, tags={ \"name\" : \"testnsg\"})  \n",
    "\n",
    "poller = network_client.network_security_groups.begin_create_or_update(RESOURCE_GROUP_NAME, \"testnsg\", parameters=nsg_params) \n",
    "nsg_result = poller.result()\n",
    "\n",
    "print(f\"{nsg_result}\")"
   ]
  },
  {
   "cell_type": "code",
   "execution_count": 75,
   "id": "7533e9a9",
   "metadata": {},
   "outputs": [
    {
     "name": "stdout",
     "output_type": "stream",
     "text": [
      "{'additional_properties': {}, 'id': '/subscriptions/542414c9-86c5-4daf-9ef7-a109a8241211/resourceGroups/PythonAzureExample-VM-rg/providers/Microsoft.Network/networkSecurityGroups/testnsg/securityRules/testrule', 'name': 'testrule', 'etag': 'W/\"1212e398-6034-44a5-aec1-0bfc08b37283\"', 'type': 'Microsoft.Network/networkSecurityGroups/securityRules', 'description': None, 'protocol': 'Tcp', 'source_port_range': '*', 'destination_port_range': '22', 'source_address_prefix': '*', 'source_address_prefixes': [], 'source_application_security_groups': None, 'destination_address_prefix': '*', 'destination_address_prefixes': [], 'destination_application_security_groups': None, 'source_port_ranges': [], 'destination_port_ranges': [], 'access': 'Allow', 'priority': 100, 'direction': 'Inbound', 'provisioning_state': 'Succeeded'}\n"
     ]
    }
   ],
   "source": [
    "from azure.mgmt.network.v2020_06_01.models import SecurityRule\n",
    "sec_rule_name = \"testrule\"\n",
    "sec_rule_params = SecurityRule(\n",
    "    id=\"testrule\", \n",
    "    name=sec_rule_name, \n",
    "    protocol=\"Tcp\", \n",
    "    source_port_range=\"*\",\n",
    "    destination_port_range=\"22\",\n",
    "    source_address_prefix=\"*\",\n",
    "    destination_address_prefix=\"*\",\n",
    "    access=\"Allow\",\n",
    "    direction=\"inbound\", \n",
    "    priority=100,\n",
    ")\n",
    "\n",
    "poller = network_client.security_rules.begin_create_or_update(RESOURCE_GROUP_NAME,nsg_name,security_rule_name=\"testrule\",security_rule_parameters=sec_rule_params) \n",
    "sec_rule_result = poller.result()\n",
    "print(f\"{sec_rule_result}\")"
   ]
  },
  {
   "cell_type": "code",
   "execution_count": 76,
   "id": "4cdb59ae",
   "metadata": {},
   "outputs": [
    {
     "name": "stdout",
     "output_type": "stream",
     "text": [
      "Provisioned virtual subnet python-example-subnet with address prefix 10.0.0.0/24\n"
     ]
    }
   ],
   "source": [
    "# step 3: Provision the subnet and wait for completion\n",
    "poller = network_client.subnets.begin_create_or_update(RESOURCE_GROUP_NAME, \n",
    "    VNET_NAME, SUBNET_NAME,                                                 \n",
    "    { \"address_prefix\": \"10.0.0.0/24\", \n",
    "     \"network_security_group\":{\n",
    "        \"id\": nsg_result.id,\n",
    "    } },\n",
    ")\n",
    "subnet_result = poller.result()\n",
    "\n",
    "print(f\"Provisioned virtual subnet {subnet_result.name} with address prefix {subnet_result.address_prefix}\")\n"
   ]
  },
  {
   "cell_type": "code",
   "execution_count": 77,
   "id": "6ff82f40",
   "metadata": {},
   "outputs": [
    {
     "name": "stdout",
     "output_type": "stream",
     "text": [
      "{'additional_properties': {}, 'id': '/subscriptions/542414c9-86c5-4daf-9ef7-a109a8241211/resourceGroups/PythonAzureExample-VM-rg/providers/Microsoft.Network/virtualNetworks/python-example-vnet/subnets/python-example-subnet', 'name': 'python-example-subnet', 'etag': 'W/\"6d17eff2-1ec5-4f14-83e1-2be637feec12\"', 'type': 'Microsoft.Network/virtualNetworks/subnets', 'address_prefix': '10.0.0.0/24', 'address_prefixes': None, 'network_security_group': <azure.mgmt.network.v2021_02_01.models._models_py3.NetworkSecurityGroup object at 0x7f87a07a1490>, 'route_table': None, 'nat_gateway': None, 'service_endpoints': None, 'service_endpoint_policies': None, 'private_endpoints': None, 'ip_configurations': None, 'ip_configuration_profiles': None, 'ip_allocations': None, 'resource_navigation_links': None, 'service_association_links': None, 'delegations': [], 'purpose': None, 'provisioning_state': 'Succeeded', 'private_endpoint_network_policies': 'Enabled', 'private_link_service_network_policies': 'Enabled', 'application_gateway_ip_configurations': None}\n"
     ]
    }
   ],
   "source": [
    "print(subnet_result)"
   ]
  },
  {
   "cell_type": "code",
   "execution_count": 78,
   "id": "f09cbd1d",
   "metadata": {},
   "outputs": [],
   "source": [
    "# Step 4: Provision an IP address and wait for completion\n",
    "poller = network_client.public_ip_addresses.begin_create_or_update(RESOURCE_GROUP_NAME,\n",
    "    IP_NAME,\n",
    "    {\n",
    "        \"location\": LOCATION,\n",
    "        \"sku\": { \"name\": \"Standard\" },\n",
    "        \"public_ip_allocation_method\": \"Static\",\n",
    "        \"public_ip_address_version\" : \"IPV4\"\n",
    "    }\n",
    ")"
   ]
  },
  {
   "cell_type": "code",
   "execution_count": 79,
   "id": "21160099",
   "metadata": {},
   "outputs": [
    {
     "name": "stdout",
     "output_type": "stream",
     "text": [
      "Provisioned public IP address python-example-ip with address 52.229.11.108\n"
     ]
    }
   ],
   "source": [
    "ip_address_result = poller.result()\n",
    "print(f\"Provisioned public IP address {ip_address_result.name} with address {ip_address_result.ip_address}\")"
   ]
  },
  {
   "cell_type": "code",
   "execution_count": 80,
   "id": "17b50c7a",
   "metadata": {},
   "outputs": [],
   "source": [
    "# Step 5: Provision the network interface client\n",
    "poller = network_client.network_interfaces.begin_create_or_update(RESOURCE_GROUP_NAME,\n",
    "    NIC_NAME, \n",
    "    {\n",
    "        \"location\": LOCATION,\n",
    "        \"ip_configurations\": [ {\n",
    "            \"name\": IP_CONFIG_NAME,\n",
    "            \"subnet\": { \"id\": subnet_result.id },\n",
    "            \"public_ip_address\": {\"id\": ip_address_result.id }\n",
    "        }]\n",
    "    }\n",
    ")"
   ]
  },
  {
   "cell_type": "code",
   "execution_count": 81,
   "id": "30d63c3c",
   "metadata": {},
   "outputs": [
    {
     "name": "stdout",
     "output_type": "stream",
     "text": [
      "Provisioned network interface client python-example-nic\n"
     ]
    }
   ],
   "source": [
    "nic_result = poller.result()\n",
    "print(f\"Provisioned network interface client {nic_result.name}\")"
   ]
  },
  {
   "cell_type": "code",
   "execution_count": 82,
   "id": "48f184d0",
   "metadata": {},
   "outputs": [],
   "source": [
    "# Step 6: Provision the virtual machine\n",
    "compute_client = ComputeManagementClient(credential, subs_id)\n",
    "\n",
    "VM_NAME = \"ExampleVM\"\n",
    "USERNAME = \"azureuser\"\n",
    "PASSWORD = \"ChangePa$$w0rd24\""
   ]
  },
  {
   "cell_type": "code",
   "execution_count": 83,
   "id": "ada2cfd0",
   "metadata": {},
   "outputs": [],
   "source": [
    "poller = compute_client.virtual_machines.begin_create_or_update(RESOURCE_GROUP_NAME, VM_NAME,\n",
    "                                                               {\n",
    "                                                                   \"location\": LOCATION,\n",
    "                                                                   \"storage_profile\":{\n",
    "                                                                       \"image_reference\":{\n",
    "                                                                           \"publisher\":'Canonical',\n",
    "                                                                           \"offer\":\"UbuntuServer\",\n",
    "                                                                           \"sku\":\"16.04.0-LTS\",\n",
    "                                                                           \"version\":\"latest\"\n",
    "                                                                       }\n",
    "                                                                   },\n",
    "                                                                   \"hardware_profile\":{\n",
    "                                                                       \"vm_size\":\"Standard_DS1_v2\"\n",
    "                                                                   },\n",
    "                                                                   \"os_profile\":{\n",
    "                                                                       \"computer_name\":VM_NAME,\n",
    "                                                                       \"admin_username\":USERNAME,\n",
    "                                                                       \"admin_password\":PASSWORD\n",
    "                                                                   },\n",
    "                                                                   \"network_profile\":{\n",
    "                                                                       \"network_interfaces\":[{\n",
    "                                                                           \"id\":nic_result.id,\n",
    "                                                                       }]\n",
    "                                                                   },\n",
    "                                                               })"
   ]
  },
  {
   "cell_type": "code",
   "execution_count": 84,
   "id": "5c63bf9b",
   "metadata": {},
   "outputs": [],
   "source": [
    "vm_result = poller.result()"
   ]
  },
  {
   "cell_type": "code",
   "execution_count": 85,
   "id": "b1286d81",
   "metadata": {},
   "outputs": [
    {
     "name": "stdout",
     "output_type": "stream",
     "text": [
      "Provisioned virtual machineExampleVM\n"
     ]
    }
   ],
   "source": [
    "print(f\"Provisioned virtual machine{vm_result.name}\")"
   ]
  },
  {
   "cell_type": "code",
   "execution_count": null,
   "id": "018fd82d",
   "metadata": {},
   "outputs": [],
   "source": []
  },
  {
   "cell_type": "code",
   "execution_count": null,
   "id": "3857cfb6",
   "metadata": {},
   "outputs": [],
   "source": []
  }
 ],
 "metadata": {
  "kernelspec": {
   "display_name": "Python 3",
   "language": "python",
   "name": "python3"
  },
  "language_info": {
   "codemirror_mode": {
    "name": "ipython",
    "version": 3
   },
   "file_extension": ".py",
   "mimetype": "text/x-python",
   "name": "python",
   "nbconvert_exporter": "python",
   "pygments_lexer": "ipython3",
   "version": "3.8.5"
  }
 },
 "nbformat": 4,
 "nbformat_minor": 5
}
