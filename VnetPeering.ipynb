{
 "cells": [
  {
   "cell_type": "code",
   "execution_count": 16,
   "source": [
    "from azure.identity import AzureCliCredential\n",
    "from azure.mgmt.resource import ResourceManagementClient\n",
    "from azure.mgmt.network import NetworkManagementClient\n",
    "from azure.mgmt.compute import ComputeManagementClient\n",
    "import os\n",
    "from azure.identity import AzureCliCredential\n",
    "from azure.mgmt.resource import SubscriptionClient"
   ],
   "outputs": [],
   "metadata": {}
  },
  {
   "cell_type": "code",
   "execution_count": 17,
   "source": [
    "credential = AzureCliCredential()\n",
    "subscription_client = SubscriptionClient(credential)\n",
    "\n",
    "subscription_id = next(subscription_client.subscriptions.list())\n",
    "subs_id = subscription_id.subscription_id\n",
    "print(subs_id)"
   ],
   "outputs": [
    {
     "output_type": "stream",
     "name": "stdout",
     "text": [
      "542414c9-86c5-4daf-9ef7-a109a8241211\n"
     ]
    }
   ],
   "metadata": {}
  },
  {
   "cell_type": "code",
   "execution_count": 18,
   "source": [
    "resource_client = ResourceManagementClient(credential, subs_id)"
   ],
   "outputs": [],
   "metadata": {}
  },
  {
   "cell_type": "code",
   "execution_count": 19,
   "source": [
    "RESOURCE_GROUP_NAME = \"PythonAzureExample-VM-rg\"\n",
    "LOCATION = \"westus2\""
   ],
   "outputs": [],
   "metadata": {}
  },
  {
   "cell_type": "code",
   "execution_count": 20,
   "source": [
    "rg_result = resource_client.resource_groups.create_or_update(RESOURCE_GROUP_NAME,\n",
    "    {\n",
    "        \"location\": LOCATION\n",
    "    }\n",
    ")"
   ],
   "outputs": [],
   "metadata": {}
  },
  {
   "cell_type": "code",
   "execution_count": 21,
   "source": [
    "print(f\"Provisioned resource group {rg_result.name} in the {rg_result.location} region\")"
   ],
   "outputs": [
    {
     "output_type": "stream",
     "name": "stdout",
     "text": [
      "Provisioned resource group PythonAzureExample-VM-rg in the westus2 region\n"
     ]
    }
   ],
   "metadata": {}
  },
  {
   "cell_type": "code",
   "execution_count": 22,
   "source": [
    "from azure.mgmt.network.v2020_06_01.models import NetworkSecurityGroup\n",
    "from azure.mgmt.network.v2020_06_01.models import SecurityRule\n",
    "\n",
    "network_client = NetworkManagementClient(credential, subs_id)\n",
    "nsg_params = NetworkSecurityGroup()\n",
    "nsg_params.location = LOCATION\n",
    "nsg_params.security_rules = [SecurityRule(\n",
    "        id=\"rule1\",\n",
    "        name=\"sshrule\",\n",
    "        protocol=\"*\",\n",
    "        source_port_range=\"*\",\n",
    "        destination_port_range=\"22\",\n",
    "        source_address_prefix=\"*\",\n",
    "        destination_address_prefix=\"*\",\n",
    "        access=\"Allow\",\n",
    "        direction=\"inbound\",\n",
    "        priority=100,\n",
    "        )]\n",
    "\n",
    "poller1 = network_client.network_security_groups.begin_create_or_update(RESOURCE_GROUP_NAME, \"nsg1\", parameters=nsg_params)\n",
    "nsg_result1 = poller1.result()\n",
    "print(nsg_result1)"
   ],
   "outputs": [
    {
     "output_type": "stream",
     "name": "stdout",
     "text": [
      "{'additional_properties': {}, 'id': '/subscriptions/542414c9-86c5-4daf-9ef7-a109a8241211/resourceGroups/PythonAzureExample-VM-rg/providers/Microsoft.Network/networkSecurityGroups/nsg1', 'name': 'nsg1', 'type': 'Microsoft.Network/networkSecurityGroups', 'location': 'westus2', 'tags': None, 'etag': 'W/\"7d980e9d-dfa7-4a0a-be07-8cfaf7a3263e\"', 'security_rules': [<azure.mgmt.network.v2021_02_01.models._models_py3.SecurityRule object at 0x7fdc93420ee0>], 'default_security_rules': [<azure.mgmt.network.v2021_02_01.models._models_py3.SecurityRule object at 0x7fdc93420d60>, <azure.mgmt.network.v2021_02_01.models._models_py3.SecurityRule object at 0x7fdc93420eb0>, <azure.mgmt.network.v2021_02_01.models._models_py3.SecurityRule object at 0x7fdc931c2640>, <azure.mgmt.network.v2021_02_01.models._models_py3.SecurityRule object at 0x7fdc937e6820>, <azure.mgmt.network.v2021_02_01.models._models_py3.SecurityRule object at 0x7fdc937e6880>, <azure.mgmt.network.v2021_02_01.models._models_py3.SecurityRule object at 0x7fdc92ee5df0>], 'network_interfaces': None, 'subnets': None, 'flow_logs': None, 'resource_guid': '8cb3e308-f841-40db-981d-bb07a63dd435', 'provisioning_state': 'Succeeded'}\n"
     ]
    }
   ],
   "metadata": {}
  },
  {
   "cell_type": "code",
   "execution_count": 23,
   "source": [
    "poller2 = network_client.network_security_groups.begin_create_or_update(RESOURCE_GROUP_NAME, \"nsg2\", parameters=nsg_params)\n",
    "nsg_result2 = poller2.result()\n",
    "print(nsg_result2)\n"
   ],
   "outputs": [
    {
     "output_type": "stream",
     "name": "stdout",
     "text": [
      "{'additional_properties': {}, 'id': '/subscriptions/542414c9-86c5-4daf-9ef7-a109a8241211/resourceGroups/PythonAzureExample-VM-rg/providers/Microsoft.Network/networkSecurityGroups/nsg2', 'name': 'nsg2', 'type': 'Microsoft.Network/networkSecurityGroups', 'location': 'westus2', 'tags': None, 'etag': 'W/\"78ecffb0-8fa5-44fd-a9e4-26deb944297a\"', 'security_rules': [<azure.mgmt.network.v2021_02_01.models._models_py3.SecurityRule object at 0x7fdc93420c70>], 'default_security_rules': [<azure.mgmt.network.v2021_02_01.models._models_py3.SecurityRule object at 0x7fdc93420c40>, <azure.mgmt.network.v2021_02_01.models._models_py3.SecurityRule object at 0x7fdc93420be0>, <azure.mgmt.network.v2021_02_01.models._models_py3.SecurityRule object at 0x7fdc93420e20>, <azure.mgmt.network.v2021_02_01.models._models_py3.SecurityRule object at 0x7fdc93420bb0>, <azure.mgmt.network.v2021_02_01.models._models_py3.SecurityRule object at 0x7fdc93420a90>, <azure.mgmt.network.v2021_02_01.models._models_py3.SecurityRule object at 0x7fdc93420df0>], 'network_interfaces': None, 'subnets': None, 'flow_logs': None, 'resource_guid': '2dce5b32-5ace-4329-bd27-37f921836eb4', 'provisioning_state': 'Succeeded'}\n"
     ]
    }
   ],
   "metadata": {}
  },
  {
   "cell_type": "code",
   "execution_count": 24,
   "source": [
    "poller1 = network_client.virtual_networks.begin_create_or_update(\n",
    "        RESOURCE_GROUP_NAME,\n",
    "        \"vnet1\",\n",
    "        {\n",
    "            \"location\": LOCATION,\n",
    "            \"address_space\": {\n",
    "                \"address_prefixes\": [\"10.0.0.0/16\"]\n",
    "                }\n",
    "            }\n",
    "        )\n",
    "vnet_result1 = poller1.result()\n",
    "print(vnet_result1)"
   ],
   "outputs": [
    {
     "output_type": "stream",
     "name": "stdout",
     "text": [
      "{'additional_properties': {}, 'id': '/subscriptions/542414c9-86c5-4daf-9ef7-a109a8241211/resourceGroups/PythonAzureExample-VM-rg/providers/Microsoft.Network/virtualNetworks/vnet1', 'name': 'vnet1', 'type': 'Microsoft.Network/virtualNetworks', 'location': 'westus2', 'tags': None, 'extended_location': None, 'etag': 'W/\"e249d836-ce51-4a93-b695-3c22c736ecd2\"', 'address_space': <azure.mgmt.network.v2021_02_01.models._models_py3.AddressSpace object at 0x7fdc934b8e20>, 'dhcp_options': None, 'flow_timeout_in_minutes': None, 'subnets': [], 'virtual_network_peerings': [], 'resource_guid': 'a681e779-3793-4979-9736-326b908dec33', 'provisioning_state': 'Succeeded', 'enable_ddos_protection': False, 'enable_vm_protection': None, 'ddos_protection_plan': None, 'bgp_communities': None, 'ip_allocations': None}\n"
     ]
    }
   ],
   "metadata": {}
  },
  {
   "cell_type": "code",
   "execution_count": 25,
   "source": [
    "poller2 = network_client.virtual_networks.begin_create_or_update(\n",
    "        RESOURCE_GROUP_NAME,\n",
    "        \"vnet2\",\n",
    "        {\n",
    "            \"location\": LOCATION,\n",
    "            \"address_space\": {\n",
    "                \"address_prefixes\": [\"10.1.0.0/16\"]\n",
    "                }\n",
    "            }\n",
    "        )\n",
    "vnet_result2 = poller2.result()\n",
    "print(vnet_result2)"
   ],
   "outputs": [
    {
     "output_type": "stream",
     "name": "stdout",
     "text": [
      "{'additional_properties': {}, 'id': '/subscriptions/542414c9-86c5-4daf-9ef7-a109a8241211/resourceGroups/PythonAzureExample-VM-rg/providers/Microsoft.Network/virtualNetworks/vnet2', 'name': 'vnet2', 'type': 'Microsoft.Network/virtualNetworks', 'location': 'westus2', 'tags': None, 'extended_location': None, 'etag': 'W/\"7b0dcd5e-422c-4d71-9d0c-55ec46ccba30\"', 'address_space': <azure.mgmt.network.v2021_02_01.models._models_py3.AddressSpace object at 0x7fdc93902340>, 'dhcp_options': None, 'flow_timeout_in_minutes': None, 'subnets': [], 'virtual_network_peerings': [], 'resource_guid': '912eba11-2fae-4139-bcc7-97013464f03f', 'provisioning_state': 'Succeeded', 'enable_ddos_protection': False, 'enable_vm_protection': None, 'ddos_protection_plan': None, 'bgp_communities': None, 'ip_allocations': None}\n"
     ]
    }
   ],
   "metadata": {}
  },
  {
   "cell_type": "code",
   "execution_count": 26,
   "source": [
    "poller1 = network_client.subnets.begin_create_or_update(RESOURCE_GROUP_NAME, \n",
    "    \"vnet1\", \"subnet1\",                                                 \n",
    "    { \"address_prefix\": \"10.0.0.0/24\", \n",
    "     \"network_security_group\":{\n",
    "        \"id\": nsg_result1.id,\n",
    "    } },\n",
    ")\n",
    "subnet_result1 = poller1.result()\n",
    "\n",
    "print(subnet_result1)"
   ],
   "outputs": [
    {
     "output_type": "stream",
     "name": "stdout",
     "text": [
      "{'additional_properties': {}, 'id': '/subscriptions/542414c9-86c5-4daf-9ef7-a109a8241211/resourceGroups/PythonAzureExample-VM-rg/providers/Microsoft.Network/virtualNetworks/vnet1/subnets/subnet1', 'name': 'subnet1', 'etag': 'W/\"87cef866-8ce5-43b4-96ea-e76349557db8\"', 'type': 'Microsoft.Network/virtualNetworks/subnets', 'address_prefix': '10.0.0.0/24', 'address_prefixes': None, 'network_security_group': <azure.mgmt.network.v2021_02_01.models._models_py3.NetworkSecurityGroup object at 0x7fdc931b91c0>, 'route_table': None, 'nat_gateway': None, 'service_endpoints': None, 'service_endpoint_policies': None, 'private_endpoints': None, 'ip_configurations': None, 'ip_configuration_profiles': None, 'ip_allocations': None, 'resource_navigation_links': None, 'service_association_links': None, 'delegations': [], 'purpose': None, 'provisioning_state': 'Succeeded', 'private_endpoint_network_policies': 'Enabled', 'private_link_service_network_policies': 'Enabled', 'application_gateway_ip_configurations': None}\n"
     ]
    }
   ],
   "metadata": {}
  },
  {
   "cell_type": "code",
   "execution_count": 27,
   "source": [
    "poller2 = network_client.subnets.begin_create_or_update(RESOURCE_GROUP_NAME, \n",
    "    \"vnet2\", \"subnet2\",                                                 \n",
    "    { \"address_prefix\": \"10.1.0.0/24\", \n",
    "     \"network_security_group\":{\n",
    "        \"id\": nsg_result2.id,\n",
    "    } },\n",
    ")\n",
    "subnet_result2 = poller2.result()\n",
    "\n",
    "print(subnet_result2)"
   ],
   "outputs": [
    {
     "output_type": "stream",
     "name": "stdout",
     "text": [
      "{'additional_properties': {}, 'id': '/subscriptions/542414c9-86c5-4daf-9ef7-a109a8241211/resourceGroups/PythonAzureExample-VM-rg/providers/Microsoft.Network/virtualNetworks/vnet2/subnets/subnet2', 'name': 'subnet2', 'etag': 'W/\"d56f9454-59d9-4bc7-83a2-4d58e7737ae7\"', 'type': 'Microsoft.Network/virtualNetworks/subnets', 'address_prefix': '10.1.0.0/24', 'address_prefixes': None, 'network_security_group': <azure.mgmt.network.v2021_02_01.models._models_py3.NetworkSecurityGroup object at 0x7fdc93913310>, 'route_table': None, 'nat_gateway': None, 'service_endpoints': None, 'service_endpoint_policies': None, 'private_endpoints': None, 'ip_configurations': None, 'ip_configuration_profiles': None, 'ip_allocations': None, 'resource_navigation_links': None, 'service_association_links': None, 'delegations': [], 'purpose': None, 'provisioning_state': 'Succeeded', 'private_endpoint_network_policies': 'Enabled', 'private_link_service_network_policies': 'Enabled', 'application_gateway_ip_configurations': None}\n"
     ]
    }
   ],
   "metadata": {}
  },
  {
   "cell_type": "code",
   "execution_count": 28,
   "source": [
    "poller1 = network_client.public_ip_addresses.begin_create_or_update(RESOURCE_GROUP_NAME,\n",
    "    \"ip1\",\n",
    "    {\n",
    "        \"location\": LOCATION,\n",
    "        \"sku\": { \"name\": \"Standard\" },\n",
    "        \"public_ip_allocation_method\": \"Static\",\n",
    "        \"public_ip_address_version\" : \"IPV4\"\n",
    "    }\n",
    ")\n",
    "ip_address_result1 = poller1.result()\n",
    "print(ip_address_result1)"
   ],
   "outputs": [
    {
     "output_type": "stream",
     "name": "stdout",
     "text": [
      "{'additional_properties': {}, 'id': '/subscriptions/542414c9-86c5-4daf-9ef7-a109a8241211/resourceGroups/PythonAzureExample-VM-rg/providers/Microsoft.Network/publicIPAddresses/ip1', 'name': 'ip1', 'type': 'Microsoft.Network/publicIPAddresses', 'location': 'westus2', 'tags': None, 'extended_location': None, 'sku': <azure.mgmt.network.v2021_02_01.models._models_py3.PublicIPAddressSku object at 0x7fdcb078e550>, 'etag': 'W/\"3687986d-bb35-48ab-b31b-1a612ad154a1\"', 'zones': None, 'public_ip_allocation_method': 'Static', 'public_ip_address_version': 'IPv4', 'ip_configuration': None, 'dns_settings': None, 'ddos_settings': None, 'ip_tags': [], 'ip_address': '52.151.36.104', 'public_ip_prefix': None, 'idle_timeout_in_minutes': 4, 'resource_guid': '8e7c81eb-a07d-409b-91a7-b2d4dcd654a8', 'provisioning_state': 'Succeeded', 'service_public_ip_address': None, 'nat_gateway': None, 'migration_phase': None, 'linked_public_ip_address': None, 'delete_option': None}\n"
     ]
    }
   ],
   "metadata": {}
  },
  {
   "cell_type": "code",
   "execution_count": 29,
   "source": [
    "poller2 = network_client.public_ip_addresses.begin_create_or_update(RESOURCE_GROUP_NAME,\n",
    "    \"ip2\",\n",
    "    {\n",
    "        \"location\": LOCATION,\n",
    "        \"sku\": { \"name\": \"Standard\" },\n",
    "        \"public_ip_allocation_method\": \"Static\",\n",
    "        \"public_ip_address_version\" : \"IPV4\"\n",
    "    }\n",
    ")\n",
    "ip_address_result2 = poller2.result()\n",
    "print(ip_address_result2)"
   ],
   "outputs": [
    {
     "output_type": "stream",
     "name": "stdout",
     "text": [
      "{'additional_properties': {}, 'id': '/subscriptions/542414c9-86c5-4daf-9ef7-a109a8241211/resourceGroups/PythonAzureExample-VM-rg/providers/Microsoft.Network/publicIPAddresses/ip2', 'name': 'ip2', 'type': 'Microsoft.Network/publicIPAddresses', 'location': 'westus2', 'tags': None, 'extended_location': None, 'sku': <azure.mgmt.network.v2021_02_01.models._models_py3.PublicIPAddressSku object at 0x7fdc93420d90>, 'etag': 'W/\"6f55ed7e-8d5d-4d21-9392-6e88148f0187\"', 'zones': None, 'public_ip_allocation_method': 'Static', 'public_ip_address_version': 'IPv4', 'ip_configuration': None, 'dns_settings': None, 'ddos_settings': None, 'ip_tags': [], 'ip_address': '20.187.41.214', 'public_ip_prefix': None, 'idle_timeout_in_minutes': 4, 'resource_guid': '67f7a321-7058-4607-879b-761bda33a855', 'provisioning_state': 'Succeeded', 'service_public_ip_address': None, 'nat_gateway': None, 'migration_phase': None, 'linked_public_ip_address': None, 'delete_option': None}\n"
     ]
    }
   ],
   "metadata": {}
  },
  {
   "cell_type": "code",
   "execution_count": 30,
   "source": [
    "poller1 = network_client.network_interfaces.begin_create_or_update(RESOURCE_GROUP_NAME,\n",
    "    \"nic1\", \n",
    "    {\n",
    "        \"location\": LOCATION,\n",
    "        \"ip_configurations\": [ {\n",
    "            \"name\": \"ip_config1\",\n",
    "            \"subnet\": { \"id\": subnet_result1.id },\n",
    "            \"public_ip_address\": {\"id\": ip_address_result1.id }\n",
    "        }]\n",
    "    }\n",
    ")"
   ],
   "outputs": [],
   "metadata": {}
  },
  {
   "cell_type": "code",
   "execution_count": 31,
   "source": [
    "nic_result1 = poller1.result()\n",
    "print(nic_result1)"
   ],
   "outputs": [
    {
     "output_type": "stream",
     "name": "stdout",
     "text": [
      "{'additional_properties': {}, 'id': '/subscriptions/542414c9-86c5-4daf-9ef7-a109a8241211/resourceGroups/PythonAzureExample-VM-rg/providers/Microsoft.Network/networkInterfaces/nic1', 'name': 'nic1', 'type': 'Microsoft.Network/networkInterfaces', 'location': 'westus2', 'tags': None, 'extended_location': None, 'etag': 'W/\"6ac32449-2f8e-4b7e-af9b-0d72f67145bc\"', 'virtual_machine': None, 'network_security_group': None, 'private_endpoint': None, 'ip_configurations': [<azure.mgmt.network.v2021_02_01.models._models_py3.NetworkInterfaceIPConfiguration object at 0x7fdc9392d940>], 'tap_configurations': [], 'dns_settings': <azure.mgmt.network.v2021_02_01.models._models_py3.NetworkInterfaceDnsSettings object at 0x7fdc93410040>, 'mac_address': None, 'primary': None, 'enable_accelerated_networking': False, 'enable_ip_forwarding': False, 'hosted_workloads': [], 'dscp_configuration': None, 'resource_guid': '3a1c823f-57d0-4d5b-b665-b53854b9237f', 'provisioning_state': 'Succeeded', 'workload_type': None, 'nic_type': 'Standard', 'private_link_service': None, 'migration_phase': None}\n"
     ]
    }
   ],
   "metadata": {}
  },
  {
   "cell_type": "code",
   "execution_count": 32,
   "source": [
    "poller2 = network_client.network_interfaces.begin_create_or_update(RESOURCE_GROUP_NAME,\n",
    "    \"nic2\", \n",
    "    {\n",
    "        \"location\": LOCATION,\n",
    "        \"ip_configurations\": [ {\n",
    "            \"name\": \"ip_config2\",\n",
    "            \"subnet\": { \"id\": subnet_result2.id },\n",
    "            \"public_ip_address\": {\"id\": ip_address_result2.id }\n",
    "        }]\n",
    "    }\n",
    ")\n",
    "\n",
    "nic_result2 = poller2.result()\n",
    "print(nic_result2)"
   ],
   "outputs": [
    {
     "output_type": "stream",
     "name": "stdout",
     "text": [
      "{'additional_properties': {}, 'id': '/subscriptions/542414c9-86c5-4daf-9ef7-a109a8241211/resourceGroups/PythonAzureExample-VM-rg/providers/Microsoft.Network/networkInterfaces/nic2', 'name': 'nic2', 'type': 'Microsoft.Network/networkInterfaces', 'location': 'westus2', 'tags': None, 'extended_location': None, 'etag': 'W/\"57ddf5c1-c398-40c9-a18c-eec848eab485\"', 'virtual_machine': None, 'network_security_group': None, 'private_endpoint': None, 'ip_configurations': [<azure.mgmt.network.v2021_02_01.models._models_py3.NetworkInterfaceIPConfiguration object at 0x7fdc938fdeb0>], 'tap_configurations': [], 'dns_settings': <azure.mgmt.network.v2021_02_01.models._models_py3.NetworkInterfaceDnsSettings object at 0x7fdc934073d0>, 'mac_address': None, 'primary': None, 'enable_accelerated_networking': False, 'enable_ip_forwarding': False, 'hosted_workloads': [], 'dscp_configuration': None, 'resource_guid': '70b375ed-a0e7-4a81-b9db-08dd3bbaca5b', 'provisioning_state': 'Succeeded', 'workload_type': None, 'nic_type': 'Standard', 'private_link_service': None, 'migration_phase': None}\n"
     ]
    }
   ],
   "metadata": {}
  },
  {
   "cell_type": "code",
   "execution_count": 33,
   "source": [
    "compute_client = ComputeManagementClient(credential, subs_id)\n",
    "USERNAME = \"azureuser\"\n",
    "PASSWORD = \"pass@123\""
   ],
   "outputs": [],
   "metadata": {}
  },
  {
   "cell_type": "code",
   "execution_count": 34,
   "source": [
    "poller1 = compute_client.virtual_machines.begin_create_or_update(RESOURCE_GROUP_NAME, \"vm1\",\n",
    "                                                               {\n",
    "                                                                   \"location\": LOCATION,\n",
    "                                                                   \"storage_profile\":{\n",
    "                                                                       \"image_reference\":{\n",
    "                                                                           \"publisher\":'Canonical',\n",
    "                                                                           \"offer\":\"UbuntuServer\",\n",
    "                                                                           \"sku\":\"16.04.0-LTS\",\n",
    "                                                                           \"version\":\"latest\"\n",
    "                                                                       }\n",
    "                                                                   },\n",
    "                                                                   \"hardware_profile\":{\n",
    "                                                                       \"vm_size\":\"Standard_DS1_v2\"\n",
    "                                                                   },\n",
    "                                                                   \"os_profile\":{\n",
    "                                                                       \"computer_name\":\"vm1\",\n",
    "                                                                       \"admin_username\":USERNAME,\n",
    "                                                                       \"admin_password\":PASSWORD\n",
    "                                                                   },\n",
    "                                                                   \"network_profile\":{\n",
    "                                                                       \"network_interfaces\":[{\n",
    "                                                                           \"id\":nic_result1.id,\n",
    "                                                                       }]\n",
    "                                                                   },\n",
    "                                                               })\n",
    "vm_result1 = poller1.result()\n",
    "print(vm_result1)"
   ],
   "outputs": [
    {
     "output_type": "stream",
     "name": "stdout",
     "text": [
      "{'additional_properties': {}, 'id': '/subscriptions/542414c9-86c5-4daf-9ef7-a109a8241211/resourceGroups/PythonAzureExample-VM-rg/providers/Microsoft.Compute/virtualMachines/vm1', 'name': 'vm1', 'type': 'Microsoft.Compute/virtualMachines', 'location': 'westus2', 'tags': None, 'plan': None, 'resources': None, 'identity': None, 'zones': None, 'extended_location': None, 'hardware_profile': <azure.mgmt.compute.v2021_04_01.models._models_py3.HardwareProfile object at 0x7fdc934108e0>, 'storage_profile': <azure.mgmt.compute.v2021_04_01.models._models_py3.StorageProfile object at 0x7fdc938f0f40>, 'additional_capabilities': None, 'os_profile': <azure.mgmt.compute.v2021_04_01.models._models_py3.OSProfile object at 0x7fdc9369a8e0>, 'network_profile': <azure.mgmt.compute.v2021_04_01.models._models_py3.NetworkProfile object at 0x7fdc9369a9d0>, 'security_profile': None, 'diagnostics_profile': None, 'availability_set': None, 'virtual_machine_scale_set': None, 'proximity_placement_group': None, 'priority': None, 'eviction_policy': None, 'billing_profile': None, 'host': None, 'host_group': None, 'provisioning_state': 'Succeeded', 'instance_view': None, 'license_type': None, 'vm_id': 'bbbbabf5-203a-44da-ab4a-76e27fffd2a4', 'extensions_time_budget': None, 'platform_fault_domain': None, 'scheduled_events_profile': None, 'user_data': None, 'capacity_reservation': None}\n"
     ]
    }
   ],
   "metadata": {}
  },
  {
   "cell_type": "code",
   "execution_count": 35,
   "source": [
    "poller2 = compute_client.virtual_machines.begin_create_or_update(RESOURCE_GROUP_NAME, \"vm2\",\n",
    "                                                               {\n",
    "                                                                   \"location\": LOCATION,\n",
    "                                                                   \"storage_profile\":{\n",
    "                                                                       \"image_reference\":{\n",
    "                                                                           \"publisher\":'Canonical',\n",
    "                                                                           \"offer\":\"UbuntuServer\",\n",
    "                                                                           \"sku\":\"16.04.0-LTS\",\n",
    "                                                                           \"version\":\"latest\"\n",
    "                                                                       }\n",
    "                                                                   },\n",
    "                                                                   \"hardware_profile\":{\n",
    "                                                                       \"vm_size\":\"Standard_DS1_v2\"\n",
    "                                                                   },\n",
    "                                                                   \"os_profile\":{\n",
    "                                                                       \"computer_name\":\"vm2\",\n",
    "                                                                       \"admin_username\":USERNAME,\n",
    "                                                                       \"admin_password\":PASSWORD\n",
    "                                                                   },\n",
    "                                                                   \"network_profile\":{\n",
    "                                                                       \"network_interfaces\":[{\n",
    "                                                                           \"id\":nic_result2.id,\n",
    "                                                                       }]\n",
    "                                                                   },\n",
    "                                                               })\n",
    "vm_result2 = poller2.result()\n",
    "print(vm_result2)"
   ],
   "outputs": [
    {
     "output_type": "stream",
     "name": "stdout",
     "text": [
      "{'additional_properties': {}, 'id': '/subscriptions/542414c9-86c5-4daf-9ef7-a109a8241211/resourceGroups/PythonAzureExample-VM-rg/providers/Microsoft.Compute/virtualMachines/vm2', 'name': 'vm2', 'type': 'Microsoft.Compute/virtualMachines', 'location': 'westus2', 'tags': None, 'plan': None, 'resources': None, 'identity': None, 'zones': None, 'extended_location': None, 'hardware_profile': <azure.mgmt.compute.v2021_04_01.models._models_py3.HardwareProfile object at 0x7fdc93427850>, 'storage_profile': <azure.mgmt.compute.v2021_04_01.models._models_py3.StorageProfile object at 0x7fdc938e29d0>, 'additional_capabilities': None, 'os_profile': <azure.mgmt.compute.v2021_04_01.models._models_py3.OSProfile object at 0x7fdc9392db80>, 'network_profile': <azure.mgmt.compute.v2021_04_01.models._models_py3.NetworkProfile object at 0x7fdc934eeb80>, 'security_profile': None, 'diagnostics_profile': None, 'availability_set': None, 'virtual_machine_scale_set': None, 'proximity_placement_group': None, 'priority': None, 'eviction_policy': None, 'billing_profile': None, 'host': None, 'host_group': None, 'provisioning_state': 'Succeeded', 'instance_view': None, 'license_type': None, 'vm_id': '484330cd-e081-42ed-9a13-adcebc2d4fd2', 'extensions_time_budget': None, 'platform_fault_domain': None, 'scheduled_events_profile': None, 'user_data': None, 'capacity_reservation': None}\n"
     ]
    }
   ],
   "metadata": {}
  },
  {
   "cell_type": "code",
   "execution_count": 37,
   "source": [
    "vn = network_client.virtual_networks.get(RESOURCE_GROUP_NAME, \"vnet2\")\n",
    "\n",
    "poller1 = network_client.virtual_network_peerings.begin_create_or_update(\n",
    "    RESOURCE_GROUP_NAME,\n",
    "    \"vnet1\",\n",
    "    \"vnet_peer1\",\n",
    "    {\n",
    "         \"allowVirtualNetworkAccess\": True,\n",
    "         \"allowForwardedTraffic\": True,\n",
    "         \"allowGatewayTransit\": False,\n",
    "         \"useRemoteGateways\": False,\n",
    "        'remote_virtual_network': {\n",
    "           'id': vn.id\n",
    "        }\n",
    "    }\n",
    ")\n",
    "\n",
    "peer1 = poller1.result()\n",
    "print(peer1)"
   ],
   "outputs": [
    {
     "output_type": "stream",
     "name": "stdout",
     "text": [
      "{'additional_properties': {}, 'id': '/subscriptions/542414c9-86c5-4daf-9ef7-a109a8241211/resourceGroups/PythonAzureExample-VM-rg/providers/Microsoft.Network/virtualNetworks/vnet1/virtualNetworkPeerings/vnet_peer1', 'name': 'vnet_peer1', 'etag': 'W/\"f16f3ebe-dd3d-4222-ab95-3a244a239308\"', 'type': 'Microsoft.Network/virtualNetworks/virtualNetworkPeerings', 'allow_virtual_network_access': True, 'allow_forwarded_traffic': True, 'allow_gateway_transit': False, 'use_remote_gateways': False, 'remote_virtual_network': <azure.mgmt.network.v2021_02_01.models._models_py3.SubResource object at 0x7fdc9192afd0>, 'remote_address_space': <azure.mgmt.network.v2021_02_01.models._models_py3.AddressSpace object at 0x7fdc92ee5f70>, 'remote_virtual_network_address_space': <azure.mgmt.network.v2021_02_01.models._models_py3.AddressSpace object at 0x7fdc93280f70>, 'remote_bgp_communities': None, 'peering_state': 'Initiated', 'peering_sync_level': 'RemoteNotInSync', 'provisioning_state': 'Succeeded', 'do_not_verify_remote_gateways': False, 'resource_guid': '37af5d68-183d-0840-2bf1-a56aa4e91c0c'}\n"
     ]
    }
   ],
   "metadata": {}
  },
  {
   "cell_type": "code",
   "execution_count": 38,
   "source": [
    "vn = network_client.virtual_networks.get(RESOURCE_GROUP_NAME, \"vnet1\")\n",
    "\n",
    "poller2 = network_client.virtual_network_peerings.begin_create_or_update(\n",
    "    RESOURCE_GROUP_NAME,\n",
    "    \"vnet2\",\n",
    "    \"vnet_peer2\",\n",
    "    {\n",
    "         \"allowVirtualNetworkAccess\": True,\n",
    "         \"allowForwardedTraffic\": True,\n",
    "         \"allowGatewayTransit\": False,\n",
    "         \"useRemoteGateways\": False,\n",
    "        'remote_virtual_network': {\n",
    "           'id': vn.id\n",
    "        }\n",
    "    }\n",
    ")\n",
    "\n",
    "peer2 = poller2.result()\n",
    "print(peer2)"
   ],
   "outputs": [
    {
     "output_type": "stream",
     "name": "stdout",
     "text": [
      "{'additional_properties': {}, 'id': '/subscriptions/542414c9-86c5-4daf-9ef7-a109a8241211/resourceGroups/PythonAzureExample-VM-rg/providers/Microsoft.Network/virtualNetworks/vnet2/virtualNetworkPeerings/vnet_peer2', 'name': 'vnet_peer2', 'etag': 'W/\"56a837af-0bd9-4be4-aaaa-423f003d88a8\"', 'type': 'Microsoft.Network/virtualNetworks/virtualNetworkPeerings', 'allow_virtual_network_access': True, 'allow_forwarded_traffic': True, 'allow_gateway_transit': False, 'use_remote_gateways': False, 'remote_virtual_network': <azure.mgmt.network.v2021_02_01.models._models_py3.SubResource object at 0x7fdc93abc3d0>, 'remote_address_space': <azure.mgmt.network.v2021_02_01.models._models_py3.AddressSpace object at 0x7fdc9392d7f0>, 'remote_virtual_network_address_space': <azure.mgmt.network.v2021_02_01.models._models_py3.AddressSpace object at 0x7fdc93927910>, 'remote_bgp_communities': None, 'peering_state': 'Connected', 'peering_sync_level': 'FullyInSync', 'provisioning_state': 'Succeeded', 'do_not_verify_remote_gateways': False, 'resource_guid': '37af5d68-183d-0840-2bf1-a56aa4e91c0c'}\n"
     ]
    }
   ],
   "metadata": {}
  },
  {
   "cell_type": "code",
   "execution_count": null,
   "source": [],
   "outputs": [],
   "metadata": {}
  },
  {
   "cell_type": "code",
   "execution_count": null,
   "source": [],
   "outputs": [],
   "metadata": {}
  },
  {
   "cell_type": "code",
   "execution_count": null,
   "source": [],
   "outputs": [],
   "metadata": {}
  },
  {
   "cell_type": "code",
   "execution_count": null,
   "source": [],
   "outputs": [],
   "metadata": {}
  },
  {
   "cell_type": "code",
   "execution_count": null,
   "source": [],
   "outputs": [],
   "metadata": {}
  },
  {
   "cell_type": "code",
   "execution_count": null,
   "source": [],
   "outputs": [],
   "metadata": {}
  },
  {
   "cell_type": "code",
   "execution_count": null,
   "source": [],
   "outputs": [],
   "metadata": {}
  },
  {
   "cell_type": "code",
   "execution_count": null,
   "source": [],
   "outputs": [],
   "metadata": {}
  },
  {
   "cell_type": "code",
   "execution_count": null,
   "source": [],
   "outputs": [],
   "metadata": {}
  },
  {
   "cell_type": "code",
   "execution_count": null,
   "source": [],
   "outputs": [],
   "metadata": {}
  },
  {
   "cell_type": "code",
   "execution_count": null,
   "source": [],
   "outputs": [],
   "metadata": {}
  },
  {
   "cell_type": "code",
   "execution_count": null,
   "source": [],
   "outputs": [],
   "metadata": {}
  },
  {
   "cell_type": "code",
   "execution_count": null,
   "source": [],
   "outputs": [],
   "metadata": {}
  },
  {
   "cell_type": "code",
   "execution_count": null,
   "source": [],
   "outputs": [],
   "metadata": {}
  },
  {
   "cell_type": "code",
   "execution_count": null,
   "source": [],
   "outputs": [],
   "metadata": {}
  }
 ],
 "metadata": {
  "kernelspec": {
   "name": "python3",
   "display_name": "Python 3.8.5 64-bit ('base': conda)"
  },
  "language_info": {
   "codemirror_mode": {
    "name": "ipython",
    "version": 3
   },
   "file_extension": ".py",
   "mimetype": "text/x-python",
   "name": "python",
   "nbconvert_exporter": "python",
   "pygments_lexer": "ipython3",
   "version": "3.8.5"
  },
  "interpreter": {
   "hash": "dee5353e960b18b875726cd26a101a1efc011584f5db29e2f9118ec5ed116578"
  }
 },
 "nbformat": 4,
 "nbformat_minor": 5
}