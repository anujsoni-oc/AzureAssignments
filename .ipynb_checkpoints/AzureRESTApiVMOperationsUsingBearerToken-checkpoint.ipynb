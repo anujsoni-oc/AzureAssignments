{
 "cells": [
  {
   "cell_type": "code",
   "execution_count": 1,
   "id": "d76ec10e",
   "metadata": {},
   "outputs": [
    {
     "name": "stdout",
     "output_type": "stream",
     "text": [
      "Requirement already satisfied: adal in /Users/anujsoni/opt/anaconda3/lib/python3.8/site-packages (1.2.7)\n",
      "Requirement already satisfied: PyJWT<3,>=1.0.0 in /Users/anujsoni/opt/anaconda3/lib/python3.8/site-packages (from adal) (2.1.0)\n",
      "Requirement already satisfied: cryptography>=1.1.0 in /Users/anujsoni/opt/anaconda3/lib/python3.8/site-packages (from adal) (3.4.7)\n",
      "Requirement already satisfied: requests<3,>=2.0.0 in /Users/anujsoni/opt/anaconda3/lib/python3.8/site-packages (from adal) (2.25.1)\n",
      "Requirement already satisfied: python-dateutil<3,>=2.1.0 in /Users/anujsoni/opt/anaconda3/lib/python3.8/site-packages (from adal) (2.8.1)\n",
      "Requirement already satisfied: cffi>=1.12 in /Users/anujsoni/opt/anaconda3/lib/python3.8/site-packages (from cryptography>=1.1.0->adal) (1.14.5)\n",
      "Requirement already satisfied: pycparser in /Users/anujsoni/opt/anaconda3/lib/python3.8/site-packages (from cffi>=1.12->cryptography>=1.1.0->adal) (2.20)\n",
      "Requirement already satisfied: six>=1.5 in /Users/anujsoni/opt/anaconda3/lib/python3.8/site-packages (from python-dateutil<3,>=2.1.0->adal) (1.15.0)\n",
      "Requirement already satisfied: certifi>=2017.4.17 in /Users/anujsoni/opt/anaconda3/lib/python3.8/site-packages (from requests<3,>=2.0.0->adal) (2020.12.5)\n",
      "Requirement already satisfied: chardet<5,>=3.0.2 in /Users/anujsoni/opt/anaconda3/lib/python3.8/site-packages (from requests<3,>=2.0.0->adal) (4.0.0)\n",
      "Requirement already satisfied: idna<3,>=2.5 in /Users/anujsoni/opt/anaconda3/lib/python3.8/site-packages (from requests<3,>=2.0.0->adal) (2.10)\n",
      "Requirement already satisfied: urllib3<1.27,>=1.21.1 in /Users/anujsoni/opt/anaconda3/lib/python3.8/site-packages (from requests<3,>=2.0.0->adal) (1.26.4)\n"
     ]
    }
   ],
   "source": [
    "import getopt\n",
    "import sys\n",
    "import json\n",
    "import re\n",
    "from adal import AuthenticationContext\n",
    "\n",
    "def printUsage():\n",
    "    print('auth.py -u <username> -p <password> -a <authority> -r <resource> -c <clientId>')\n",
    "    \n",
    "def main(argv):\n",
    "    try:\n",
    "        options, args = getopt.getopt(argv, 'hu:p:a:r:c:')\n",
    "    except getopt.GetoptError:\n",
    "        printUsage()\n",
    "        sys.exit(-1)\n",
    "        \n",
    "    username = ''\n",
    "    password = ''\n",
    "    authority = ''\n",
    "    resource = ''\n",
    "    \n",
    "    clientId = ''\n",
    "    \n",
    "    for option, arg in options:\n",
    "        if option == '-h':\n",
    "            printUsage()\n",
    "            sys.exit()\n",
    "        elif option == '-u':\n",
    "            username = arg\n",
    "        elif option == '-p':\n",
    "            password = arg\n",
    "        elif option == '-a':\n",
    "            authority = arg\n",
    "        elif option == '-r':\n",
    "            resource = arg\n",
    "        elif option == '-c':\n",
    "            clientId = arg\n",
    "            \n",
    "    if username == '' or password == '' or authority == '' or resource == '' or clientId == '':\n",
    "        printUsage()\n",
    "        sys.exit(-1)\n",
    "    \n",
    "    if not authority.endswith('token'):\n",
    "        regex = re.compile('^(.*[\\/])')\n",
    "        match = regex.match(authority)\n",
    "        authority = match.group()\n",
    "        authority = authority + username.split('@')[1]\n",
    "        \n",
    "    auth_context = AuthenticationContext(authority)\n",
    "    token = auth_context.acquire_token_with_username_password(resource, username, password, clientId)\n",
    "    print(token[\"accessToken\"])\n",
    "\n",
    "if __name__ == '__main__':\n",
    "    main(sys.argv[1:])\n"
   ]
  },
  {
   "cell_type": "code",
   "execution_count": null,
   "id": "94472101",
   "metadata": {},
   "outputs": [],
   "source": []
  }
 ],
 "metadata": {
  "kernelspec": {
   "display_name": "Python 3",
   "language": "python",
   "name": "python3"
  },
  "language_info": {
   "codemirror_mode": {
    "name": "ipython",
    "version": 3
   },
   "file_extension": ".py",
   "mimetype": "text/x-python",
   "name": "python",
   "nbconvert_exporter": "python",
   "pygments_lexer": "ipython3",
   "version": "3.8.5"
  }
 },
 "nbformat": 4,
 "nbformat_minor": 5
}
