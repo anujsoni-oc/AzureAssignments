{
 "cells": [
  {
   "cell_type": "markdown",
   "id": "c5311c66",
   "metadata": {},
   "source": [
    "# Generate Bearer Token to use Azure REST Api"
   ]
  },
  {
   "cell_type": "code",
   "execution_count": 17,
   "id": "f8c5e205",
   "metadata": {},
   "outputs": [
    {
     "name": "stdout",
     "output_type": "stream",
     "text": [
      "eyJ0eXAiOiJKV1QiLCJhbGciOiJSUzI1NiIsIng1dCI6Im5PbzNaRHJPRFhFSzFqS1doWHNsSFJfS1hFZyIsImtpZCI6Im5PbzNaRHJPRFhFSzFqS1doWHNsSFJfS1hFZyJ9.eyJhdWQiOiJodHRwczovL21hbmFnZW1lbnQuYXp1cmUuY29tLyIsImlzcyI6Imh0dHBzOi8vc3RzLndpbmRvd3MubmV0L2QxNmM0ZWZiLTFjMzAtNGEwMy1hZjQyLTU1NDhlNzBlYTkxOS8iLCJpYXQiOjE2MzAzMTQyNDAsIm5iZiI6MTYzMDMxNDI0MCwiZXhwIjoxNjMwMzE4MTQwLCJhaW8iOiJFMlpnWU1neE1KUmNOTjlRcG1UUDFzN0w4bE5NQUE9PSIsImFwcGlkIjoiNzM5ZTc2YmYtYjc1YS00ZmRhLWE5YjUtNGQwYmVlOGMzMWNmIiwiYXBwaWRhY3IiOiIxIiwiaWRwIjoiaHR0cHM6Ly9zdHMud2luZG93cy5uZXQvZDE2YzRlZmItMWMzMC00YTAzLWFmNDItNTU0OGU3MGVhOTE5LyIsIm9pZCI6IjkxMjNiOGI1LTQyZTEtNGJiOC05N2RkLTNlNGRiNzk2Yzg4ZSIsInJoIjoiMC5BWEVBLTA1czBUQWNBMHF2UWxWSTV3NnBHYjkybm5OYXQ5cFBxYlZOQy02TU1jOXhBQUEuIiwic3ViIjoiOTEyM2I4YjUtNDJlMS00YmI4LTk3ZGQtM2U0ZGI3OTZjODhlIiwidGlkIjoiZDE2YzRlZmItMWMzMC00YTAzLWFmNDItNTU0OGU3MGVhOTE5IiwidXRpIjoiT0JXUG9DdUVDVTZlMFZKYmF2RmhBQSIsInZlciI6IjEuMCIsInhtc190Y2R0IjoxNjI3OTcyMzA3fQ.EUJL-4gRkPg_7Avr3farJhyUUQBkwlS2Vq7fDQpCByp8RLUOHzRvUPGocC_pvhdhDrultmbCiVUaqNaszrGUsfdRYDSmlIg_-JfmGv-3v6WS3S75I3n_zacAsZQK46Sk6q7o0WUmDTFaRzkhAaojMn5H8RM75xnwrrrArdn3qfQ2MdStyqSAjJg9M7TCb-WKYUdf-3tOfg8OQ32sNKJWWGrLw5sGvHnSM0bLCI2i7YrwHjj9vUejjMPFgMKDbXYx2xSrXDEpYeYd2EyN6v4bL2YZRlmswvK3-R7RKl2bvUjRoKakrPx-1lh_NO0Z2DJujZiYal9adZCPm6gp2FvcFw\n"
     ]
    }
   ],
   "source": [
    "\n",
    "#   \"appId\": \"27e4dff0-1629-463b-ac36-cb03d4cefd26\",\n",
    "#   \"displayName\": \"localtest-sp-rbac\",\n",
    "#   \"name\": \"27e4dff0-1629-463b-ac36-cb03d4cefd26\",\n",
    "#   \"password\": \"MQoA-bJizCMOLrJVW3GiL9.pODufugpY_8\",\n",
    "#   \"tenantId\": \"d16c4efb-1c30-4a03-af42-5548e70ea919\",\n",
    "#   \"subscriptionId\": \"542414c9-86c5-4daf-9ef7-a109a8241211\",\n",
    "#   \"clientId\": \"739e76bf-b75a-4fda-a9b5-4d0bee8c31cf\",\n",
    "#   \"clientSecret\": \"ojGY_e_TeUXWAfCyhGe_5FiW6ZKNg_zbdi\"\n",
    "# }\n",
    "\n",
    "\n",
    "import adal\n",
    "\n",
    "# Tenant ID for your Azure Subscription\n",
    "TENANT_ID = 'd16c4efb-1c30-4a03-af42-5548e70ea919'\n",
    "\n",
    "# Your Service Principal App ID\n",
    "CLIENT = '739e76bf-b75a-4fda-a9b5-4d0bee8c31cf'\n",
    "\n",
    "# Your Service Principal Password\n",
    "KEY = 'ojGY_e_TeUXWAfCyhGe_5FiW6ZKNg_zbdi'\n",
    "\n",
    "\n",
    "subscription_id = '542414c9-86c5-4daf-9ef7-a109a8241211'\n",
    "\n",
    "authority_url = 'https://login.microsoftonline.com/'+TENANT_ID\n",
    "context = adal.AuthenticationContext(authority_url)\n",
    "token = context.acquire_token_with_client_credentials(\n",
    "    resource='https://management.azure.com/',\n",
    "    client_id=CLIENT,\n",
    "    client_secret=KEY\n",
    ")\n",
    "\n",
    "print(token[\"accessToken\"])"
   ]
  },
  {
   "cell_type": "markdown",
   "id": "1d5c6c7c",
   "metadata": {},
   "source": [
    "# Get request to get all vm under given resource group"
   ]
  },
  {
   "cell_type": "code",
   "execution_count": 19,
   "id": "cacfeb22",
   "metadata": {},
   "outputs": [
    {
     "name": "stdout",
     "output_type": "stream",
     "text": [
      "b'{\\r\\n  \"name\": \"ExampleVM\",\\r\\n  \"id\": \"/subscriptions/542414c9-86c5-4daf-9ef7-a109a8241211/resourceGroups/PythonAzureExample-VM-rg/providers/Microsoft.Compute/virtualMachines/ExampleVM\",\\r\\n  \"type\": \"Microsoft.Compute/virtualMachines\",\\r\\n  \"location\": \"westus2\",\\r\\n  \"properties\": {\\r\\n    \"vmId\": \"8e44db74-9e51-48df-800d-272250f5719c\",\\r\\n    \"hardwareProfile\": {\\r\\n      \"vmSize\": \"Standard_DS1_v2\"\\r\\n    },\\r\\n    \"storageProfile\": {\\r\\n      \"imageReference\": {\\r\\n        \"publisher\": \"Canonical\",\\r\\n        \"offer\": \"UbuntuServer\",\\r\\n        \"sku\": \"16.04.0-LTS\",\\r\\n        \"version\": \"latest\",\\r\\n        \"exactVersion\": \"16.04.202106110\"\\r\\n      },\\r\\n      \"osDisk\": {\\r\\n        \"osType\": \"Linux\",\\r\\n        \"name\": \"ExampleVM_OsDisk_1_4258e002010f45d1b3425302e363f1ed\",\\r\\n        \"createOption\": \"FromImage\",\\r\\n        \"caching\": \"ReadWrite\",\\r\\n        \"managedDisk\": {\\r\\n          \"storageAccountType\": \"Premium_LRS\",\\r\\n          \"id\": \"/subscriptions/542414c9-86c5-4daf-9ef7-a109a8241211/resourceGroups/PythonAzureExample-VM-rg/providers/Microsoft.Compute/disks/ExampleVM_OsDisk_1_4258e002010f45d1b3425302e363f1ed\"\\r\\n        },\\r\\n        \"diskSizeGB\": 30\\r\\n      },\\r\\n      \"dataDisks\": []\\r\\n    },\\r\\n    \"osProfile\": {\\r\\n      \"computerName\": \"ExampleVM\",\\r\\n      \"adminUsername\": \"azureuser\",\\r\\n      \"linuxConfiguration\": {\\r\\n        \"disablePasswordAuthentication\": false,\\r\\n        \"provisionVMAgent\": true,\\r\\n        \"patchSettings\": {\\r\\n          \"patchMode\": \"ImageDefault\",\\r\\n          \"assessmentMode\": \"ImageDefault\"\\r\\n        }\\r\\n      },\\r\\n      \"secrets\": [],\\r\\n      \"allowExtensionOperations\": true,\\r\\n      \"requireGuestProvisionSignal\": true\\r\\n    },\\r\\n    \"networkProfile\": {\"networkInterfaces\":[{\"id\":\"/subscriptions/542414c9-86c5-4daf-9ef7-a109a8241211/resourceGroups/PythonAzureExample-VM-rg/providers/Microsoft.Network/networkInterfaces/python-example-nic\"}]},\\r\\n    \"provisioningState\": \"Succeeded\"\\r\\n  }\\r\\n}'\n"
     ]
    }
   ],
   "source": [
    "import requests\n",
    "url = 'https://management.azure.com/subscriptions/542414c9-86c5-4daf-9ef7-a109a8241211/resourceGroups/PythonAzureExample-VM-rg/providers/Microsoft.Compute/virtualMachines/ExampleVM?api-version=2021-07-01'\n",
    "\n",
    "\n",
    "\n",
    "access_token = 'eyJ0eXAiOiJKV1QiLCJhbGciOiJSUzI1NiIsIng1dCI6Im5PbzNaRHJPRFhFSzFqS1doWHNsSFJfS1hFZyIsImtpZCI6Im5PbzNaRHJPRFhFSzFqS1doWHNsSFJfS1hFZyJ9.eyJhdWQiOiJodHRwczovL21hbmFnZW1lbnQuYXp1cmUuY29tLyIsImlzcyI6Imh0dHBzOi8vc3RzLndpbmRvd3MubmV0L2QxNmM0ZWZiLTFjMzAtNGEwMy1hZjQyLTU1NDhlNzBlYTkxOS8iLCJpYXQiOjE2MzAzMTQyNDAsIm5iZiI6MTYzMDMxNDI0MCwiZXhwIjoxNjMwMzE4MTQwLCJhaW8iOiJFMlpnWU1neE1KUmNOTjlRcG1UUDFzN0w4bE5NQUE9PSIsImFwcGlkIjoiNzM5ZTc2YmYtYjc1YS00ZmRhLWE5YjUtNGQwYmVlOGMzMWNmIiwiYXBwaWRhY3IiOiIxIiwiaWRwIjoiaHR0cHM6Ly9zdHMud2luZG93cy5uZXQvZDE2YzRlZmItMWMzMC00YTAzLWFmNDItNTU0OGU3MGVhOTE5LyIsIm9pZCI6IjkxMjNiOGI1LTQyZTEtNGJiOC05N2RkLTNlNGRiNzk2Yzg4ZSIsInJoIjoiMC5BWEVBLTA1czBUQWNBMHF2UWxWSTV3NnBHYjkybm5OYXQ5cFBxYlZOQy02TU1jOXhBQUEuIiwic3ViIjoiOTEyM2I4YjUtNDJlMS00YmI4LTk3ZGQtM2U0ZGI3OTZjODhlIiwidGlkIjoiZDE2YzRlZmItMWMzMC00YTAzLWFmNDItNTU0OGU3MGVhOTE5IiwidXRpIjoiT0JXUG9DdUVDVTZlMFZKYmF2RmhBQSIsInZlciI6IjEuMCIsInhtc190Y2R0IjoxNjI3OTcyMzA3fQ.EUJL-4gRkPg_7Avr3farJhyUUQBkwlS2Vq7fDQpCByp8RLUOHzRvUPGocC_pvhdhDrultmbCiVUaqNaszrGUsfdRYDSmlIg_-JfmGv-3v6WS3S75I3n_zacAsZQK46Sk6q7o0WUmDTFaRzkhAaojMn5H8RM75xnwrrrArdn3qfQ2MdStyqSAjJg9M7TCb-WKYUdf-3tOfg8OQ32sNKJWWGrLw5sGvHnSM0bLCI2i7YrwHjj9vUejjMPFgMKDbXYx2xSrXDEpYeYd2EyN6v4bL2YZRlmswvK3-R7RKl2bvUjRoKakrPx-1lh_NO0Z2DJujZiYal9adZCPm6gp2FvcFw'\n",
    "\n",
    "result = requests.get(url,\n",
    "      headers={'Content-Type':'application/json',\n",
    "               'Authorization': 'Bearer {}'.format(access_token)})\n",
    "print(result.content)"
   ]
  },
  {
   "cell_type": "markdown",
   "id": "05f29af6",
   "metadata": {},
   "source": [
    "# PUT request to create vm under given resource group"
   ]
  },
  {
   "cell_type": "code",
   "execution_count": 23,
   "id": "58afdd72",
   "metadata": {},
   "outputs": [
    {
     "name": "stdout",
     "output_type": "stream",
     "text": [
      "b'{\\r\\n  \"name\": \"ExampleVM2\",\\r\\n  \"id\": \"/subscriptions/542414c9-86c5-4daf-9ef7-a109a8241211/resourceGroups/PythonAzureExample-VM-rg/providers/Microsoft.Compute/virtualMachines/ExampleVM2\",\\r\\n  \"type\": \"Microsoft.Compute/virtualMachines\",\\r\\n  \"location\": \"westus2\",\\r\\n  \"properties\": {\\r\\n    \"vmId\": \"9c400dac-bc2e-4526-8195-eefc9ba98a15\",\\r\\n    \"hardwareProfile\": {\\r\\n      \"vmSize\": \"Standard_D1_v2\"\\r\\n    },\\r\\n    \"storageProfile\": {\\r\\n      \"imageReference\": {\\r\\n        \"publisher\": \"Canonical\",\\r\\n        \"offer\": \"UbuntuServer\",\\r\\n        \"sku\": \"16.04.0-LTS\",\\r\\n        \"version\": \"latest\",\\r\\n        \"exactVersion\": \"16.04.202106110\"\\r\\n      },\\r\\n      \"osDisk\": {\\r\\n        \"osType\": \"Linux\",\\r\\n        \"createOption\": \"FromImage\",\\r\\n        \"caching\": \"ReadWrite\",\\r\\n        \"managedDisk\": {\\r\\n          \"storageAccountType\": \"Standard_LRS\"\\r\\n        },\\r\\n        \"diskSizeGB\": 30\\r\\n      },\\r\\n      \"dataDisks\": []\\r\\n    },\\r\\n    \"osProfile\": {\\r\\n      \"computerName\": \"ExampleVM2\",\\r\\n      \"adminUsername\": \"azureuser\",\\r\\n      \"linuxConfiguration\": {\\r\\n        \"disablePasswordAuthentication\": false,\\r\\n        \"provisionVMAgent\": true,\\r\\n        \"patchSettings\": {\\r\\n          \"patchMode\": \"ImageDefault\",\\r\\n          \"assessmentMode\": \"ImageDefault\"\\r\\n        }\\r\\n      },\\r\\n      \"secrets\": [],\\r\\n      \"allowExtensionOperations\": true,\\r\\n      \"requireGuestProvisionSignal\": true\\r\\n    },\\r\\n    \"networkProfile\": {\"networkInterfaces\":[{\"id\":\"/subscriptions/542414c9-86c5-4daf-9ef7-a109a8241211/resourceGroups/PythonAzureExample-VM-rg/providers/Microsoft.Network/networkInterfaces/RestApiTestNIC\"}]},\\r\\n    \"provisioningState\": \"Creating\"\\r\\n  }\\r\\n}'\n"
     ]
    }
   ],
   "source": [
    "import requests\n",
    "import json\n",
    "url = 'https://management.azure.com/subscriptions/542414c9-86c5-4daf-9ef7-a109a8241211/resourceGroups/PythonAzureExample-VM-rg/providers/Microsoft.Compute/virtualMachines/ExampleVM2?api-version=2021-07-01'\n",
    "\n",
    "#Note - Provide a separate unallocated NIC for vm creation\n",
    "\n",
    "data = {\n",
    "  \"location\": \"westus2\",\n",
    "  \"properties\": {\n",
    "    \"hardwareProfile\": {\n",
    "      \"vmSize\": \"Standard_D1_v2\"\n",
    "    },\n",
    "    \"storageProfile\": {\n",
    "      \"imageReference\": {\n",
    "        \"sku\": \"16.04.0-LTS\",\n",
    "        \"publisher\": \"Canonical\",\n",
    "        \"version\": \"latest\",\n",
    "        \"offer\": \"UbuntuServer\"\n",
    "      },\n",
    "    },\n",
    "    \"osProfile\": {\n",
    "      \"adminUsername\": \"azureuser\",\n",
    "      \"computerName\": \"ExampleVM2\",\n",
    "      \"adminPassword\": \"ChangePa$$w0rd24\",\n",
    "    },\n",
    "    \"networkProfile\": {\n",
    "      \"networkInterfaces\": [\n",
    "        {\n",
    "          \"id\": \"/subscriptions/542414c9-86c5-4daf-9ef7-a109a8241211/resourceGroups/PythonAzureExample-VM-rg/providers/Microsoft.Network/networkInterfaces/RestApiTestNIC\",\n",
    "        }\n",
    "      ]\n",
    "    }\n",
    "  }\n",
    "}\n",
    "\n",
    "access_token = 'eyJ0eXAiOiJKV1QiLCJhbGciOiJSUzI1NiIsIng1dCI6Im5PbzNaRHJPRFhFSzFqS1doWHNsSFJfS1hFZyIsImtpZCI6Im5PbzNaRHJPRFhFSzFqS1doWHNsSFJfS1hFZyJ9.eyJhdWQiOiJodHRwczovL21hbmFnZW1lbnQuYXp1cmUuY29tLyIsImlzcyI6Imh0dHBzOi8vc3RzLndpbmRvd3MubmV0L2QxNmM0ZWZiLTFjMzAtNGEwMy1hZjQyLTU1NDhlNzBlYTkxOS8iLCJpYXQiOjE2MzAzMTQyNDAsIm5iZiI6MTYzMDMxNDI0MCwiZXhwIjoxNjMwMzE4MTQwLCJhaW8iOiJFMlpnWU1neE1KUmNOTjlRcG1UUDFzN0w4bE5NQUE9PSIsImFwcGlkIjoiNzM5ZTc2YmYtYjc1YS00ZmRhLWE5YjUtNGQwYmVlOGMzMWNmIiwiYXBwaWRhY3IiOiIxIiwiaWRwIjoiaHR0cHM6Ly9zdHMud2luZG93cy5uZXQvZDE2YzRlZmItMWMzMC00YTAzLWFmNDItNTU0OGU3MGVhOTE5LyIsIm9pZCI6IjkxMjNiOGI1LTQyZTEtNGJiOC05N2RkLTNlNGRiNzk2Yzg4ZSIsInJoIjoiMC5BWEVBLTA1czBUQWNBMHF2UWxWSTV3NnBHYjkybm5OYXQ5cFBxYlZOQy02TU1jOXhBQUEuIiwic3ViIjoiOTEyM2I4YjUtNDJlMS00YmI4LTk3ZGQtM2U0ZGI3OTZjODhlIiwidGlkIjoiZDE2YzRlZmItMWMzMC00YTAzLWFmNDItNTU0OGU3MGVhOTE5IiwidXRpIjoiT0JXUG9DdUVDVTZlMFZKYmF2RmhBQSIsInZlciI6IjEuMCIsInhtc190Y2R0IjoxNjI3OTcyMzA3fQ.EUJL-4gRkPg_7Avr3farJhyUUQBkwlS2Vq7fDQpCByp8RLUOHzRvUPGocC_pvhdhDrultmbCiVUaqNaszrGUsfdRYDSmlIg_-JfmGv-3v6WS3S75I3n_zacAsZQK46Sk6q7o0WUmDTFaRzkhAaojMn5H8RM75xnwrrrArdn3qfQ2MdStyqSAjJg9M7TCb-WKYUdf-3tOfg8OQ32sNKJWWGrLw5sGvHnSM0bLCI2i7YrwHjj9vUejjMPFgMKDbXYx2xSrXDEpYeYd2EyN6v4bL2YZRlmswvK3-R7RKl2bvUjRoKakrPx-1lh_NO0Z2DJujZiYal9adZCPm6gp2FvcFw'\n",
    "\n",
    "result = requests.put(url,data=json.dumps(data),\n",
    "      headers={'Content-Type':'application/json',\n",
    "               'Authorization': 'Bearer {}'.format(access_token)})\n",
    "print(result.content)"
   ]
  },
  {
   "cell_type": "code",
   "execution_count": null,
   "id": "7f5294f6",
   "metadata": {},
   "outputs": [],
   "source": []
  }
 ],
 "metadata": {
  "interpreter": {
   "hash": "dee5353e960b18b875726cd26a101a1efc011584f5db29e2f9118ec5ed116578"
  },
  "kernelspec": {
   "display_name": "Python 3",
   "language": "python",
   "name": "python3"
  },
  "language_info": {
   "codemirror_mode": {
    "name": "ipython",
    "version": 3
   },
   "file_extension": ".py",
   "mimetype": "text/x-python",
   "name": "python",
   "nbconvert_exporter": "python",
   "pygments_lexer": "ipython3",
   "version": "3.8.5"
  }
 },
 "nbformat": 4,
 "nbformat_minor": 5
}
